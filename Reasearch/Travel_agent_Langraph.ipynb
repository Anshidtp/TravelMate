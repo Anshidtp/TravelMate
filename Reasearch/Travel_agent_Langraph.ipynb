{
  "cells": [
    {
      "cell_type": "code",
      "execution_count": null,
      "metadata": {
        "colab": {
          "base_uri": "https://localhost:8080/"
        },
        "id": "3RADWJu9InCf",
        "outputId": "038d1fee-e157-4e41-ff5b-ba16f72dd102"
      },
      "outputs": [
        {
          "name": "stdout",
          "output_type": "stream",
          "text": [
            "Requirement already satisfied: langgraph in /usr/local/lib/python3.10/dist-packages (0.2.62)\n",
            "Requirement already satisfied: langchain-core!=0.3.0,!=0.3.1,!=0.3.10,!=0.3.11,!=0.3.12,!=0.3.13,!=0.3.14,!=0.3.15,!=0.3.16,!=0.3.17,!=0.3.18,!=0.3.19,!=0.3.2,!=0.3.20,!=0.3.21,!=0.3.22,!=0.3.3,!=0.3.4,!=0.3.5,!=0.3.6,!=0.3.7,!=0.3.8,!=0.3.9,<0.4.0,>=0.2.43 in /usr/local/lib/python3.10/dist-packages (from langgraph) (0.3.29)\n",
            "Requirement already satisfied: langgraph-checkpoint<3.0.0,>=2.0.4 in /usr/local/lib/python3.10/dist-packages (from langgraph) (2.0.9)\n",
            "Requirement already satisfied: langgraph-sdk<0.2.0,>=0.1.42 in /usr/local/lib/python3.10/dist-packages (from langgraph) (0.1.51)\n",
            "Requirement already satisfied: PyYAML>=5.3 in /usr/local/lib/python3.10/dist-packages (from langchain-core!=0.3.0,!=0.3.1,!=0.3.10,!=0.3.11,!=0.3.12,!=0.3.13,!=0.3.14,!=0.3.15,!=0.3.16,!=0.3.17,!=0.3.18,!=0.3.19,!=0.3.2,!=0.3.20,!=0.3.21,!=0.3.22,!=0.3.3,!=0.3.4,!=0.3.5,!=0.3.6,!=0.3.7,!=0.3.8,!=0.3.9,<0.4.0,>=0.2.43->langgraph) (6.0.2)\n",
            "Requirement already satisfied: jsonpatch<2.0,>=1.33 in /usr/local/lib/python3.10/dist-packages (from langchain-core!=0.3.0,!=0.3.1,!=0.3.10,!=0.3.11,!=0.3.12,!=0.3.13,!=0.3.14,!=0.3.15,!=0.3.16,!=0.3.17,!=0.3.18,!=0.3.19,!=0.3.2,!=0.3.20,!=0.3.21,!=0.3.22,!=0.3.3,!=0.3.4,!=0.3.5,!=0.3.6,!=0.3.7,!=0.3.8,!=0.3.9,<0.4.0,>=0.2.43->langgraph) (1.33)\n",
            "Requirement already satisfied: langsmith<0.3,>=0.1.125 in /usr/local/lib/python3.10/dist-packages (from langchain-core!=0.3.0,!=0.3.1,!=0.3.10,!=0.3.11,!=0.3.12,!=0.3.13,!=0.3.14,!=0.3.15,!=0.3.16,!=0.3.17,!=0.3.18,!=0.3.19,!=0.3.2,!=0.3.20,!=0.3.21,!=0.3.22,!=0.3.3,!=0.3.4,!=0.3.5,!=0.3.6,!=0.3.7,!=0.3.8,!=0.3.9,<0.4.0,>=0.2.43->langgraph) (0.2.10)\n",
            "Requirement already satisfied: packaging<25,>=23.2 in /usr/local/lib/python3.10/dist-packages (from langchain-core!=0.3.0,!=0.3.1,!=0.3.10,!=0.3.11,!=0.3.12,!=0.3.13,!=0.3.14,!=0.3.15,!=0.3.16,!=0.3.17,!=0.3.18,!=0.3.19,!=0.3.2,!=0.3.20,!=0.3.21,!=0.3.22,!=0.3.3,!=0.3.4,!=0.3.5,!=0.3.6,!=0.3.7,!=0.3.8,!=0.3.9,<0.4.0,>=0.2.43->langgraph) (24.2)\n",
            "Requirement already satisfied: pydantic<3.0.0,>=2.5.2 in /usr/local/lib/python3.10/dist-packages (from langchain-core!=0.3.0,!=0.3.1,!=0.3.10,!=0.3.11,!=0.3.12,!=0.3.13,!=0.3.14,!=0.3.15,!=0.3.16,!=0.3.17,!=0.3.18,!=0.3.19,!=0.3.2,!=0.3.20,!=0.3.21,!=0.3.22,!=0.3.3,!=0.3.4,!=0.3.5,!=0.3.6,!=0.3.7,!=0.3.8,!=0.3.9,<0.4.0,>=0.2.43->langgraph) (2.10.4)\n",
            "Requirement already satisfied: tenacity!=8.4.0,<10.0.0,>=8.1.0 in /usr/local/lib/python3.10/dist-packages (from langchain-core!=0.3.0,!=0.3.1,!=0.3.10,!=0.3.11,!=0.3.12,!=0.3.13,!=0.3.14,!=0.3.15,!=0.3.16,!=0.3.17,!=0.3.18,!=0.3.19,!=0.3.2,!=0.3.20,!=0.3.21,!=0.3.22,!=0.3.3,!=0.3.4,!=0.3.5,!=0.3.6,!=0.3.7,!=0.3.8,!=0.3.9,<0.4.0,>=0.2.43->langgraph) (9.0.0)\n",
            "Requirement already satisfied: typing-extensions>=4.7 in /usr/local/lib/python3.10/dist-packages (from langchain-core!=0.3.0,!=0.3.1,!=0.3.10,!=0.3.11,!=0.3.12,!=0.3.13,!=0.3.14,!=0.3.15,!=0.3.16,!=0.3.17,!=0.3.18,!=0.3.19,!=0.3.2,!=0.3.20,!=0.3.21,!=0.3.22,!=0.3.3,!=0.3.4,!=0.3.5,!=0.3.6,!=0.3.7,!=0.3.8,!=0.3.9,<0.4.0,>=0.2.43->langgraph) (4.12.2)\n",
            "Requirement already satisfied: msgpack<2.0.0,>=1.1.0 in /usr/local/lib/python3.10/dist-packages (from langgraph-checkpoint<3.0.0,>=2.0.4->langgraph) (1.1.0)\n",
            "Requirement already satisfied: httpx>=0.25.2 in /usr/local/lib/python3.10/dist-packages (from langgraph-sdk<0.2.0,>=0.1.42->langgraph) (0.28.1)\n",
            "Requirement already satisfied: orjson>=3.10.1 in /usr/local/lib/python3.10/dist-packages (from langgraph-sdk<0.2.0,>=0.1.42->langgraph) (3.10.13)\n",
            "Requirement already satisfied: anyio in /usr/local/lib/python3.10/dist-packages (from httpx>=0.25.2->langgraph-sdk<0.2.0,>=0.1.42->langgraph) (3.7.1)\n",
            "Requirement already satisfied: certifi in /usr/local/lib/python3.10/dist-packages (from httpx>=0.25.2->langgraph-sdk<0.2.0,>=0.1.42->langgraph) (2024.12.14)\n",
            "Requirement already satisfied: httpcore==1.* in /usr/local/lib/python3.10/dist-packages (from httpx>=0.25.2->langgraph-sdk<0.2.0,>=0.1.42->langgraph) (1.0.7)\n",
            "Requirement already satisfied: idna in /usr/local/lib/python3.10/dist-packages (from httpx>=0.25.2->langgraph-sdk<0.2.0,>=0.1.42->langgraph) (3.10)\n",
            "Requirement already satisfied: h11<0.15,>=0.13 in /usr/local/lib/python3.10/dist-packages (from httpcore==1.*->httpx>=0.25.2->langgraph-sdk<0.2.0,>=0.1.42->langgraph) (0.14.0)\n",
            "Requirement already satisfied: jsonpointer>=1.9 in /usr/local/lib/python3.10/dist-packages (from jsonpatch<2.0,>=1.33->langchain-core!=0.3.0,!=0.3.1,!=0.3.10,!=0.3.11,!=0.3.12,!=0.3.13,!=0.3.14,!=0.3.15,!=0.3.16,!=0.3.17,!=0.3.18,!=0.3.19,!=0.3.2,!=0.3.20,!=0.3.21,!=0.3.22,!=0.3.3,!=0.3.4,!=0.3.5,!=0.3.6,!=0.3.7,!=0.3.8,!=0.3.9,<0.4.0,>=0.2.43->langgraph) (3.0.0)\n",
            "Requirement already satisfied: requests<3,>=2 in /usr/local/lib/python3.10/dist-packages (from langsmith<0.3,>=0.1.125->langchain-core!=0.3.0,!=0.3.1,!=0.3.10,!=0.3.11,!=0.3.12,!=0.3.13,!=0.3.14,!=0.3.15,!=0.3.16,!=0.3.17,!=0.3.18,!=0.3.19,!=0.3.2,!=0.3.20,!=0.3.21,!=0.3.22,!=0.3.3,!=0.3.4,!=0.3.5,!=0.3.6,!=0.3.7,!=0.3.8,!=0.3.9,<0.4.0,>=0.2.43->langgraph) (2.32.3)\n",
            "Requirement already satisfied: requests-toolbelt<2.0.0,>=1.0.0 in /usr/local/lib/python3.10/dist-packages (from langsmith<0.3,>=0.1.125->langchain-core!=0.3.0,!=0.3.1,!=0.3.10,!=0.3.11,!=0.3.12,!=0.3.13,!=0.3.14,!=0.3.15,!=0.3.16,!=0.3.17,!=0.3.18,!=0.3.19,!=0.3.2,!=0.3.20,!=0.3.21,!=0.3.22,!=0.3.3,!=0.3.4,!=0.3.5,!=0.3.6,!=0.3.7,!=0.3.8,!=0.3.9,<0.4.0,>=0.2.43->langgraph) (1.0.0)\n",
            "Requirement already satisfied: annotated-types>=0.6.0 in /usr/local/lib/python3.10/dist-packages (from pydantic<3.0.0,>=2.5.2->langchain-core!=0.3.0,!=0.3.1,!=0.3.10,!=0.3.11,!=0.3.12,!=0.3.13,!=0.3.14,!=0.3.15,!=0.3.16,!=0.3.17,!=0.3.18,!=0.3.19,!=0.3.2,!=0.3.20,!=0.3.21,!=0.3.22,!=0.3.3,!=0.3.4,!=0.3.5,!=0.3.6,!=0.3.7,!=0.3.8,!=0.3.9,<0.4.0,>=0.2.43->langgraph) (0.7.0)\n",
            "Requirement already satisfied: pydantic-core==2.27.2 in /usr/local/lib/python3.10/dist-packages (from pydantic<3.0.0,>=2.5.2->langchain-core!=0.3.0,!=0.3.1,!=0.3.10,!=0.3.11,!=0.3.12,!=0.3.13,!=0.3.14,!=0.3.15,!=0.3.16,!=0.3.17,!=0.3.18,!=0.3.19,!=0.3.2,!=0.3.20,!=0.3.21,!=0.3.22,!=0.3.3,!=0.3.4,!=0.3.5,!=0.3.6,!=0.3.7,!=0.3.8,!=0.3.9,<0.4.0,>=0.2.43->langgraph) (2.27.2)\n",
            "Requirement already satisfied: charset-normalizer<4,>=2 in /usr/local/lib/python3.10/dist-packages (from requests<3,>=2->langsmith<0.3,>=0.1.125->langchain-core!=0.3.0,!=0.3.1,!=0.3.10,!=0.3.11,!=0.3.12,!=0.3.13,!=0.3.14,!=0.3.15,!=0.3.16,!=0.3.17,!=0.3.18,!=0.3.19,!=0.3.2,!=0.3.20,!=0.3.21,!=0.3.22,!=0.3.3,!=0.3.4,!=0.3.5,!=0.3.6,!=0.3.7,!=0.3.8,!=0.3.9,<0.4.0,>=0.2.43->langgraph) (3.4.1)\n",
            "Requirement already satisfied: urllib3<3,>=1.21.1 in /usr/local/lib/python3.10/dist-packages (from requests<3,>=2->langsmith<0.3,>=0.1.125->langchain-core!=0.3.0,!=0.3.1,!=0.3.10,!=0.3.11,!=0.3.12,!=0.3.13,!=0.3.14,!=0.3.15,!=0.3.16,!=0.3.17,!=0.3.18,!=0.3.19,!=0.3.2,!=0.3.20,!=0.3.21,!=0.3.22,!=0.3.3,!=0.3.4,!=0.3.5,!=0.3.6,!=0.3.7,!=0.3.8,!=0.3.9,<0.4.0,>=0.2.43->langgraph) (2.3.0)\n",
            "Requirement already satisfied: sniffio>=1.1 in /usr/local/lib/python3.10/dist-packages (from anyio->httpx>=0.25.2->langgraph-sdk<0.2.0,>=0.1.42->langgraph) (1.3.1)\n",
            "Requirement already satisfied: exceptiongroup in /usr/local/lib/python3.10/dist-packages (from anyio->httpx>=0.25.2->langgraph-sdk<0.2.0,>=0.1.42->langgraph) (1.2.2)\n"
          ]
        }
      ],
      "source": [
        "!pip install langgraph"
      ]
    },
    {
      "cell_type": "code",
      "execution_count": null,
      "metadata": {
        "id": "aBwBS_igIAYr"
      },
      "outputs": [],
      "source": [
        "# Defining the graph structure\n",
        "\n",
        "from typing import TypedDict, List\n",
        "from langgraph.graph import StateGraph, START, END\n",
        "\n",
        "class State(TypedDict):\n",
        "    destination: str\n",
        "    dates: str\n",
        "    plan: str\n",
        "    content: List[str]\n",
        "    itinerary: str\n",
        "\n",
        "graph_builder = StateGraph(State)"
      ]
    },
    {
      "cell_type": "code",
      "execution_count": null,
      "metadata": {
        "id": "rTLU8DUwI5nl"
      },
      "outputs": [],
      "source": [
        "GROQ_API_KEY = \"xxxxxxxxxxxxxxxxxxxxxxxxxxxxxxxxxxxxxxxxx\""
      ]
    },
    {
      "cell_type": "code",
      "execution_count": null,
      "metadata": {
        "colab": {
          "base_uri": "https://localhost:8080/"
        },
        "id": "n5sZhpRvN9ED",
        "outputId": "7429784f-d08d-426a-e7c0-9ae9592c00d3"
      },
      "outputs": [
        {
          "name": "stdout",
          "output_type": "stream",
          "text": [
            "Requirement already satisfied: langchain_groq in /usr/local/lib/python3.10/dist-packages (0.2.3)\n",
            "Requirement already satisfied: groq<1,>=0.4.1 in /usr/local/lib/python3.10/dist-packages (from langchain_groq) (0.15.0)\n",
            "Requirement already satisfied: langchain-core<0.4.0,>=0.3.29 in /usr/local/lib/python3.10/dist-packages (from langchain_groq) (0.3.29)\n",
            "Requirement already satisfied: anyio<5,>=3.5.0 in /usr/local/lib/python3.10/dist-packages (from groq<1,>=0.4.1->langchain_groq) (3.7.1)\n",
            "Requirement already satisfied: distro<2,>=1.7.0 in /usr/local/lib/python3.10/dist-packages (from groq<1,>=0.4.1->langchain_groq) (1.9.0)\n",
            "Requirement already satisfied: httpx<1,>=0.23.0 in /usr/local/lib/python3.10/dist-packages (from groq<1,>=0.4.1->langchain_groq) (0.28.1)\n",
            "Requirement already satisfied: pydantic<3,>=1.9.0 in /usr/local/lib/python3.10/dist-packages (from groq<1,>=0.4.1->langchain_groq) (2.10.4)\n",
            "Requirement already satisfied: sniffio in /usr/local/lib/python3.10/dist-packages (from groq<1,>=0.4.1->langchain_groq) (1.3.1)\n",
            "Requirement already satisfied: typing-extensions<5,>=4.10 in /usr/local/lib/python3.10/dist-packages (from groq<1,>=0.4.1->langchain_groq) (4.12.2)\n",
            "Requirement already satisfied: PyYAML>=5.3 in /usr/local/lib/python3.10/dist-packages (from langchain-core<0.4.0,>=0.3.29->langchain_groq) (6.0.2)\n",
            "Requirement already satisfied: jsonpatch<2.0,>=1.33 in /usr/local/lib/python3.10/dist-packages (from langchain-core<0.4.0,>=0.3.29->langchain_groq) (1.33)\n",
            "Requirement already satisfied: langsmith<0.3,>=0.1.125 in /usr/local/lib/python3.10/dist-packages (from langchain-core<0.4.0,>=0.3.29->langchain_groq) (0.2.10)\n",
            "Requirement already satisfied: packaging<25,>=23.2 in /usr/local/lib/python3.10/dist-packages (from langchain-core<0.4.0,>=0.3.29->langchain_groq) (24.2)\n",
            "Requirement already satisfied: tenacity!=8.4.0,<10.0.0,>=8.1.0 in /usr/local/lib/python3.10/dist-packages (from langchain-core<0.4.0,>=0.3.29->langchain_groq) (9.0.0)\n",
            "Requirement already satisfied: idna>=2.8 in /usr/local/lib/python3.10/dist-packages (from anyio<5,>=3.5.0->groq<1,>=0.4.1->langchain_groq) (3.10)\n",
            "Requirement already satisfied: exceptiongroup in /usr/local/lib/python3.10/dist-packages (from anyio<5,>=3.5.0->groq<1,>=0.4.1->langchain_groq) (1.2.2)\n",
            "Requirement already satisfied: certifi in /usr/local/lib/python3.10/dist-packages (from httpx<1,>=0.23.0->groq<1,>=0.4.1->langchain_groq) (2024.12.14)\n",
            "Requirement already satisfied: httpcore==1.* in /usr/local/lib/python3.10/dist-packages (from httpx<1,>=0.23.0->groq<1,>=0.4.1->langchain_groq) (1.0.7)\n",
            "Requirement already satisfied: h11<0.15,>=0.13 in /usr/local/lib/python3.10/dist-packages (from httpcore==1.*->httpx<1,>=0.23.0->groq<1,>=0.4.1->langchain_groq) (0.14.0)\n",
            "Requirement already satisfied: jsonpointer>=1.9 in /usr/local/lib/python3.10/dist-packages (from jsonpatch<2.0,>=1.33->langchain-core<0.4.0,>=0.3.29->langchain_groq) (3.0.0)\n",
            "Requirement already satisfied: orjson<4.0.0,>=3.9.14 in /usr/local/lib/python3.10/dist-packages (from langsmith<0.3,>=0.1.125->langchain-core<0.4.0,>=0.3.29->langchain_groq) (3.10.13)\n",
            "Requirement already satisfied: requests<3,>=2 in /usr/local/lib/python3.10/dist-packages (from langsmith<0.3,>=0.1.125->langchain-core<0.4.0,>=0.3.29->langchain_groq) (2.32.3)\n",
            "Requirement already satisfied: requests-toolbelt<2.0.0,>=1.0.0 in /usr/local/lib/python3.10/dist-packages (from langsmith<0.3,>=0.1.125->langchain-core<0.4.0,>=0.3.29->langchain_groq) (1.0.0)\n",
            "Requirement already satisfied: annotated-types>=0.6.0 in /usr/local/lib/python3.10/dist-packages (from pydantic<3,>=1.9.0->groq<1,>=0.4.1->langchain_groq) (0.7.0)\n",
            "Requirement already satisfied: pydantic-core==2.27.2 in /usr/local/lib/python3.10/dist-packages (from pydantic<3,>=1.9.0->groq<1,>=0.4.1->langchain_groq) (2.27.2)\n",
            "Requirement already satisfied: charset-normalizer<4,>=2 in /usr/local/lib/python3.10/dist-packages (from requests<3,>=2->langsmith<0.3,>=0.1.125->langchain-core<0.4.0,>=0.3.29->langchain_groq) (3.4.1)\n",
            "Requirement already satisfied: urllib3<3,>=1.21.1 in /usr/local/lib/python3.10/dist-packages (from requests<3,>=2->langsmith<0.3,>=0.1.125->langchain-core<0.4.0,>=0.3.29->langchain_groq) (2.3.0)\n"
          ]
        }
      ],
      "source": [
        "!pip install langchain_groq"
      ]
    },
    {
      "cell_type": "code",
      "execution_count": null,
      "metadata": {
        "id": "y690jExwNrIN"
      },
      "outputs": [],
      "source": [
        "from langchain_groq import ChatGroq\n",
        "\n",
        "llm = ChatGroq(\n",
        "    model=\"llama-3.3-70b-versatile\",\n",
        "    api_key=GROQ_API_KEY,\n",
        "    temperature=0,\n",
        "    max_tokens=None,\n",
        "    timeout=None,\n",
        "    max_retries=2,\n",
        "    # other params...\n",
        ")"
      ]
    },
    {
      "cell_type": "markdown",
      "metadata": {
        "id": "mUnQbS4BPDIr"
      },
      "source": [
        "#Creating the Plan Node\n",
        "The plan node generates a high-level itinerary outline:"
      ]
    },
    {
      "cell_type": "code",
      "execution_count": null,
      "metadata": {
        "colab": {
          "base_uri": "https://localhost:8080/"
        },
        "id": "8IYtfGgVOCuc",
        "outputId": "d7f83962-d1ba-4ac1-fc7b-45c8eb74c179"
      },
      "outputs": [
        {
          "data": {
            "text/plain": [
              "<langgraph.graph.state.StateGraph at 0x7dc5c7d23580>"
            ]
          },
          "execution_count": 24,
          "metadata": {},
          "output_type": "execute_result"
        }
      ],
      "source": [
        "from langchain_core.messages import SystemMessage, HumanMessage\n",
        "\n",
        "PLAN_PROMPT= \"\"\"You are an expert travel planner tasked with creating a high \\\n",
        "level itinerary outline.Write such an outline for the user provided \\\n",
        "destination and dates. Give an outline of the itinerary.\"\"\"\n",
        "\n",
        "\n",
        "def plan_node(state: State):\n",
        "    messages = [\n",
        "        SystemMessage(content=PLAN_PROMPT),\n",
        "        HumanMessage(content=f\"{state['destination']}\\n\\nHere are my \\\n",
        "            dates:\\n\\n{state['dates']}\")\n",
        "    ]\n",
        "    response = llm.invoke(messages)\n",
        "    return {\"plan\": response.content}\n",
        "\n",
        "graph_builder.add_node('plan_node', plan_node)\n",
        "graph_builder.add_edge(START, 'plan_node')\n"
      ]
    },
    {
      "cell_type": "markdown",
      "metadata": {
        "id": "CQKrT7frR0ij"
      },
      "source": [
        "#Implementing the Research Node\n",
        "The research node uses the Tavily API to gather information on local events:\n",
        "\n"
      ]
    },
    {
      "cell_type": "code",
      "execution_count": null,
      "metadata": {
        "colab": {
          "base_uri": "https://localhost:8080/"
        },
        "id": "0u3yN9NhP6pZ",
        "outputId": "52e9ae53-10e8-4d92-a712-1ba964d1159a"
      },
      "outputs": [
        {
          "name": "stderr",
          "output_type": "stream",
          "text": [
            "/usr/local/lib/python3.10/dist-packages/IPython/core/interactiveshell.py:3553: LangChainDeprecationWarning: As of langchain-core 0.3.0, LangChain uses pydantic v2 internally. The langchain_core.pydantic_v1 module was a compatibility shim for pydantic v1, and should no longer be used. Please update the code to import from Pydantic directly.\n",
            "\n",
            "For example, replace imports like: `from langchain_core.pydantic_v1 import BaseModel`\n",
            "with: `from pydantic import BaseModel`\n",
            "or the v1 compatibility namespace if you are working in a code base that has not been fully upgraded to pydantic 2 yet. \tfrom pydantic.v1 import BaseModel\n",
            "\n",
            "  exec(code_obj, self.user_global_ns, self.user_ns)\n"
          ]
        }
      ],
      "source": [
        "from langchain_core.pydantic_v1 import BaseModel\n",
        "class Queries(BaseModel):\n",
        "    queries: List[str]"
      ]
    },
    {
      "cell_type": "code",
      "execution_count": null,
      "metadata": {
        "id": "9BsnhytiUdmz"
      },
      "outputs": [],
      "source": [
        "TAVILY_API_KEY = \"xxxxxxxxxxxxxxxxxxxxxxxxxxxxxx\""
      ]
    },
    {
      "cell_type": "code",
      "execution_count": null,
      "metadata": {
        "colab": {
          "base_uri": "https://localhost:8080/"
        },
        "id": "YjXByqXdV3AP",
        "outputId": "5fdaa569-5757-4eb6-d4b0-90c7f6c1d33f"
      },
      "outputs": [
        {
          "name": "stdout",
          "output_type": "stream",
          "text": [
            "Collecting tavily-python\n",
            "  Downloading tavily_python-0.5.0-py3-none-any.whl.metadata (11 kB)\n",
            "Requirement already satisfied: requests in /usr/local/lib/python3.10/dist-packages (from tavily-python) (2.32.3)\n",
            "Collecting tiktoken>=0.5.1 (from tavily-python)\n",
            "  Downloading tiktoken-0.8.0-cp310-cp310-manylinux_2_17_x86_64.manylinux2014_x86_64.whl.metadata (6.6 kB)\n",
            "Requirement already satisfied: httpx in /usr/local/lib/python3.10/dist-packages (from tavily-python) (0.28.1)\n",
            "Requirement already satisfied: regex>=2022.1.18 in /usr/local/lib/python3.10/dist-packages (from tiktoken>=0.5.1->tavily-python) (2024.11.6)\n",
            "Requirement already satisfied: charset-normalizer<4,>=2 in /usr/local/lib/python3.10/dist-packages (from requests->tavily-python) (3.4.1)\n",
            "Requirement already satisfied: idna<4,>=2.5 in /usr/local/lib/python3.10/dist-packages (from requests->tavily-python) (3.10)\n",
            "Requirement already satisfied: urllib3<3,>=1.21.1 in /usr/local/lib/python3.10/dist-packages (from requests->tavily-python) (2.3.0)\n",
            "Requirement already satisfied: certifi>=2017.4.17 in /usr/local/lib/python3.10/dist-packages (from requests->tavily-python) (2024.12.14)\n",
            "Requirement already satisfied: anyio in /usr/local/lib/python3.10/dist-packages (from httpx->tavily-python) (3.7.1)\n",
            "Requirement already satisfied: httpcore==1.* in /usr/local/lib/python3.10/dist-packages (from httpx->tavily-python) (1.0.7)\n",
            "Requirement already satisfied: h11<0.15,>=0.13 in /usr/local/lib/python3.10/dist-packages (from httpcore==1.*->httpx->tavily-python) (0.14.0)\n",
            "Requirement already satisfied: sniffio>=1.1 in /usr/local/lib/python3.10/dist-packages (from anyio->httpx->tavily-python) (1.3.1)\n",
            "Requirement already satisfied: exceptiongroup in /usr/local/lib/python3.10/dist-packages (from anyio->httpx->tavily-python) (1.2.2)\n",
            "Downloading tavily_python-0.5.0-py3-none-any.whl (14 kB)\n",
            "Downloading tiktoken-0.8.0-cp310-cp310-manylinux_2_17_x86_64.manylinux2014_x86_64.whl (1.2 MB)\n",
            "\u001b[2K   \u001b[90m━━━━━━━━━━━━━━━━━━━━━━━━━━━━━━━━━━━━━━━━\u001b[0m \u001b[32m1.2/1.2 MB\u001b[0m \u001b[31m22.1 MB/s\u001b[0m eta \u001b[36m0:00:00\u001b[0m\n",
            "\u001b[?25hInstalling collected packages: tiktoken, tavily-python\n",
            "Successfully installed tavily-python-0.5.0 tiktoken-0.8.0\n"
          ]
        }
      ],
      "source": [
        "!pip install tavily-python"
      ]
    },
    {
      "cell_type": "code",
      "execution_count": null,
      "metadata": {
        "colab": {
          "base_uri": "https://localhost:8080/"
        },
        "id": "rRgr9DJtVaDx",
        "outputId": "754d3421-c7ba-4980-e89d-c569eeb20684"
      },
      "outputs": [
        {
          "data": {
            "text/plain": [
              "<langgraph.graph.state.StateGraph at 0x7dc5c7d23580>"
            ]
          },
          "execution_count": 28,
          "metadata": {},
          "output_type": "execute_result"
        }
      ],
      "source": [
        "from tavily import TavilyClient\n",
        "tavily = TavilyClient(api_key=TAVILY_API_KEY)\n",
        "\n",
        "RESEARCH_PLAN_PROMPT = \"\"\"You are a travel planner tasked with finding events \\\n",
        "for a user visiting. Generate a list of search queries that will gather \\\n",
        "information on local events during this period such as music festivals, \\\n",
        "food fairs, technical conferences, or any other noteworthy events. \\\n",
        "Only generate 3 queries max.\"\"\"\n",
        "\n",
        "def research_plan_node(state: State):\n",
        "    queries = llm.with_structured_output(Queries).invoke([\n",
        "        SystemMessage(content=RESEARCH_PLAN_PROMPT),\n",
        "        HumanMessage(content=f\"{state['destination']}\\n\\nHere is my \\\n",
        "                               dates:\\n\\n{state['dates']}\")\n",
        "    ])\n",
        "    content = []\n",
        "    for q in queries.queries:\n",
        "        response = tavily.search(query=q, max_results=2)\n",
        "        for r in response['results']:\n",
        "            content.append(r['content'])\n",
        "    return {'content': content}\n",
        "\n",
        "graph_builder.add_node('research_plan', research_plan_node)\n",
        "graph_builder.add_edge('plan_node', 'research_plan')"
      ]
    },
    {
      "cell_type": "markdown",
      "metadata": {
        "id": "SyNal84NWIf1"
      },
      "source": [
        "#The Generation Node\n",
        "The generation node creates a detailed itinerary based on the gathered information:"
      ]
    },
    {
      "cell_type": "code",
      "execution_count": null,
      "metadata": {
        "colab": {
          "base_uri": "https://localhost:8080/"
        },
        "id": "GLrXObtpV-So",
        "outputId": "7e4a2b76-1466-4f59-96e2-02fdf3454dc7"
      },
      "outputs": [
        {
          "data": {
            "text/plain": [
              "<langgraph.graph.state.StateGraph at 0x7dc5c7d23580>"
            ]
          },
          "execution_count": 29,
          "metadata": {},
          "output_type": "execute_result"
        }
      ],
      "source": [
        "WRITER_PROMPT = \"\"\"You are a travel agent tasked with creating the best \\\n",
        "possible travel itinerary for the user's trip. Generate a detailed itinerary \\\n",
        "based on the provided destination, dates, and any relevant information. \\\n",
        "If the user provides feedback or changes, respond with a revised version \\\n",
        "of your previous itinerary.\\\n",
        "Utilize all the information below as needed:\n",
        "\n",
        "{content}\n",
        "\"\"\"\n",
        "\n",
        "def generation_node(state: State):\n",
        "    content = \"\\n\\n\".join(state['content'] or [])\n",
        "    user_message = HumanMessage(\n",
        "        content=f\"{state['destination']}\\n\\nHere is my \\\n",
        "                dates:\\n\\n{state['dates']}\\n\\nHere is my \\\n",
        "                plan:\\n\\n{state['plan']}\")\n",
        "    messages = [\n",
        "        SystemMessage(content=WRITER_PROMPT.format(content=content)),\n",
        "        user_message\n",
        "    ]\n",
        "    response = llm.invoke(messages)\n",
        "    return {'itinerary': response.content}\n",
        "\n",
        "graph_builder.add_node('generation_node', generation_node)\n",
        "graph_builder.add_edge('research_plan', 'generation_node')\n",
        "graph_builder.add_edge('generation_node', END)"
      ]
    },
    {
      "cell_type": "code",
      "execution_count": null,
      "metadata": {
        "colab": {
          "base_uri": "https://localhost:8080/"
        },
        "id": "JvQQQqfeWeCR",
        "outputId": "3c01b6ff-5509-4fe2-97ec-b0e64bef3525"
      },
      "outputs": [
        {
          "name": "stdout",
          "output_type": "stream",
          "text": [
            "{'plan_node': {'plan': \"Here's a high-level itinerary outline for Kerala, India from January 21 to January 25, 2025:\\n\\n**Day 1 (2025-01-21): Arrival in Kochi and Exploration of Fort Kochi**\\n\\n* Arrive at Cochin International Airport\\n* Transfer to hotel in Fort Kochi\\n* Visit St. Francis Church, the oldest European church in India\\n* Explore the Dutch Palace and the iconic Chinese fishing nets\\n* Enjoy a traditional Kerala dinner and relax at the hotel\\n\\n**Day 2 (2025-01-22): Backwaters of Alleppey**\\n\\n* Drive to Alleppey (approx. 2 hours)\\n* Board a houseboat and cruise through the backwaters\\n* Enjoy the scenic views of paddy fields, villages, and coconut groves\\n* Savor a traditional Kerala lunch on the houseboat\\n* Overnight stay on the houseboat\\n\\n**Day 3 (2025-01-23): Thekkady and Periyar Wildlife Sanctuary**\\n\\n* Drive to Thekkady (approx. 4 hours)\\n* Visit the Periyar Wildlife Sanctuary for a guided trek or boat safari\\n* Explore the spice plantations and tea gardens\\n* Enjoy a traditional Kerala dinner and relax at the hotel\\n\\n**Day 4 (2025-01-24): Munnar Hill Station**\\n\\n* Drive to Munnar (approx. 2.5 hours)\\n* Visit the Tea Museum and learn about the history of tea plantations\\n* Explore the scenic Mattupetty Dam and Echo Point\\n* Enjoy a traditional Kerala dinner and relax at the hotel\\n\\n**Day 5 (2025-01-25): Departure from Kochi**\\n\\n* Drive back to Kochi (approx. 4.5 hours)\\n* Visit the Lulu Mall for some last-minute shopping\\n* Depart from Cochin International Airport for onward journey\\n\\nThis itinerary provides a mix of culture, nature, and relaxation, and can be customized to suit your preferences and interests. Let me know if you'd like me to make any changes!\"}}\n",
            "{'research_plan': {'content': ['Event Date: 22/01/2025 - 24/01/2025All Day . St. Thomas College Educational and Cultural Expo 2025. ... Events. IFF Fashion Expo 2025 Kerala, Adlux Angamaly; BAI Trade Expo 2025; BAI Trade Expo 2025 Kochi, Ernakulathappan Ground ... India Boat & Marine Show 2025 Bolgatty Palace Event Centre, Kochi; Recent Posts.', 'The Kerala Literature Festival (KLF) 2025 will be held in Kozhikode, Kerala from January 23-26, 2025. One of the largest literary events in Asia with more than half a million footfall, KLF is a vibrant celebration of literature, culture, ideas, creativity, and diversity.', 'CULTR Music Festival Returns to Kochi: Three Days of Culture, Music, and Unforgettable Experiences at Bolgatty Palace. Event Highlights: Dates: 2025 Jan 10th, 11th, 12th Location: Bolgatty Palace, Kochi, Kerala Lineup: Global electronic music, live performances, art installations, games, fashion, and world-class food stalls. The much-anticipated CULTR music festival is making its return', \"Sat 25 Jan 2025 - Sun 26 Jan 2025. St. Thomas College Palai: Kottayyam ₹ 708 ... the grandest campus music festival in Kerala, on January 25th and 26th, 2025, marking the college's 75th anniversary and India's 75th Republic Day. This two-day extravaganza will feature electrifying performances by top artists like Shilpa Rao, Julia Bliss, Arivu\", 'You can enjoy boat rides through the sanctuary, spot wildlife like elephants and tigers, and explore lush spice plantations. The cool January weather enhances the charm of this serene destination. 12. Athirappilly. Often referred to as the \"Niagara of India\", Athirappilly is Kerala\\'s largest waterfall, located near the town of Thrissur.', 'Find the best Kerala tours in January 2025 with TourRadar. Compare 141 tours with 364 real tour reviews. Book now and save with TourRadar.com! Shop 2,500 operators. 4.5 stars on ... South India : Backwaters, Tea Plantations, Temples & Beach Stay W/Private Guide & Chauffer Explorer']}}\n",
            "{'generation_node': {'itinerary': 'I\\'ve reviewed your itinerary for Kerala, India from January 21 to January 25, 2025. It looks like you have a good balance of culture, nature, and relaxation. However, I\\'d like to suggest a few modifications to make the most of your trip:\\n\\n**Day 1 (2025-01-21): Arrival in Kochi and Exploration of Fort Kochi**\\n\\n* Consider visiting the Bolgatty Palace, which is now an event center, to see if there are any events happening during your visit. The CULTR Music Festival has already taken place, but there might be other events scheduled.\\n* You could also visit the nearby Athirappilly waterfall, often referred to as the \"Niagara of India\", if you have time and interest.\\n\\n**Day 2 (2025-01-22): Backwaters of Alleppey**\\n\\n* Since you\\'ll be in Alleppey on January 22, you might want to consider visiting the Adlux Angamaly, which is hosting the IFF Fashion Expo 2025 Kerala. This could be a great opportunity to experience the local fashion scene.\\n* Alternatively, you could visit the St. Thomas College, which is hosting the Educational and Cultural Expo 2025. This could be a great way to learn about the local culture and education system.\\n\\n**Day 3 (2025-01-23): Thekkady and Periyar Wildlife Sanctuary**\\n\\n* On January 23, the Kerala Literature Festival (KLF) 2025 will be starting in Kozhikode. If you\\'re interested in literature, you could consider visiting Kozhikode instead of Thekkady. However, this would require a significant change to your itinerary.\\n* If you stick with the original plan, you could visit the spice plantations and tea gardens in Thekkady, and then enjoy a traditional Kerala dinner and relax at the hotel.\\n\\n**Day 4 (2025-01-24): Munnar Hill Station**\\n\\n* On January 24, you could visit the India Boat & Marine Show 2025 at the Bolgatty Palace Event Centre in Kochi, if you\\'re interested in boats and marine activities. However, this would require a detour from your original plan.\\n* Alternatively, you could stick with the original plan and visit the Tea Museum, Mattupetty Dam, and Echo Point in Munnar.\\n\\n**Day 5 (2025-01-25): Departure from Kochi**\\n\\n* On your way back to Kochi, you could consider visiting the Ernakulathappan Ground, which is hosting the BAI Trade Expo 2025. This could be a great opportunity to learn about the local trade and industry.\\n* If you have time, you could also visit the Lulu Mall for some last-minute shopping before departing from Cochin International Airport.\\n\\nHere\\'s a revised itinerary incorporating some of these suggestions:\\n\\n**Day 1 (2025-01-21): Arrival in Kochi and Exploration of Fort Kochi**\\n\\n* Arrive at Cochin International Airport\\n* Transfer to hotel in Fort Kochi\\n* Visit St. Francis Church, the Dutch Palace, and the iconic Chinese fishing nets\\n* Visit the Bolgatty Palace to see if there are any events happening\\n* Enjoy a traditional Kerala dinner and relax at the hotel\\n\\n**Day 2 (2025-01-22): Backwaters of Alleppey**\\n\\n* Drive to Alleppey (approx. 2 hours)\\n* Board a houseboat and cruise through the backwaters\\n* Visit the Adlux Angamaly to experience the local fashion scene\\n* Savor a traditional Kerala lunch on the houseboat\\n* Overnight stay on the houseboat\\n\\n**Day 3 (2025-01-23): Thekkady and Periyar Wildlife Sanctuary**\\n\\n* Drive to Thekkady (approx. 4 hours)\\n* Visit the Periyar Wildlife Sanctuary for a guided trek or boat safari\\n* Explore the spice plantations and tea gardens\\n* Enjoy a traditional Kerala dinner and relax at the hotel\\n\\n**Day 4 (2025-01-24): Munnar Hill Station**\\n\\n* Drive to Munnar (approx. 2.5 hours)\\n* Visit the Tea Museum and learn about the history of tea plantations\\n* Explore the scenic Mattupetty Dam and Echo Point\\n* Enjoy a traditional Kerala dinner and relax at the hotel\\n\\n**Day 5 (2025-01-25): Departure from Kochi**\\n\\n* Drive back to Kochi (approx. 4.5 hours)\\n* Visit the Ernakulathappan Ground to learn about the local trade and industry\\n* Visit the Lulu Mall for some last-minute shopping\\n* Depart from Cochin International Airport for onward journey\\n\\nLet me know if you\\'d like me to make any further changes or if this revised itinerary meets your requirements!'}}\n"
          ]
        }
      ],
      "source": [
        "from langgraph.checkpoint.memory import MemorySaver\n",
        "memory = MemorySaver()\n",
        "graph = graph_builder.compile(checkpointer=memory)\n",
        "\n",
        "thread = {'configurable': {'thread_id': '1'}}\n",
        "for s in graph.stream({\n",
        "    'destination': 'Kerala, India',\n",
        "    'dates': '2025-01-21 to 2025-01-25'\n",
        "}, thread):\n",
        "    print(s)"
      ]
    },
    {
      "cell_type": "code",
      "execution_count": null,
      "metadata": {
        "colab": {
          "base_uri": "https://localhost:8080/"
        },
        "id": "i15NT61JW4bw",
        "outputId": "d434b082-4b02-48ce-8e14-86f59a22b3f1"
      },
      "outputs": [
        {
          "name": "stdout",
          "output_type": "stream",
          "text": [
            "I've reviewed your itinerary for Kerala, India from January 21 to January 25, 2025. It looks like you have a good balance of culture, nature, and relaxation. However, I'd like to suggest a few modifications to make the most of your trip:\n",
            "\n",
            "\n",
            "Day 1 (2025-01-21): Arrival in Kochi and Exploration of Fort Kochi\n",
            "\n",
            "* Consider visiting the Bolgatty Palace, which is now an event center, to see if there are any events happening during your visit. The CULTR Music Festival has already taken place, but there might be other events scheduled.\n",
            "* You could also visit the nearby Athirappilly waterfall, often referred to as the \"Niagara of India\", if you have time and interest.\n",
            "\n",
            "\n",
            "Day 2 (2025-01-22): Backwaters of Alleppey\n",
            "\n",
            "* Since you'll be in Alleppey on January 22, you might want to consider visiting the Adlux Angamaly, which is hosting the IFF Fashion Expo 2025 Kerala. This could be a great opportunity to experience the local fashion scene.\n",
            "* Alternatively, you could visit the St. Thomas College, which is hosting the Educational and Cultural Expo 2025. This could be a great way to learn about the local culture and education system.\n",
            "\n",
            "\n",
            "Day 3 (2025-01-23): Thekkady and Periyar Wildlife Sanctuary\n",
            "\n",
            "* On January 23, the Kerala Literature Festival (KLF) 2025 will be starting in Kozhikode. If you're interested in literature, you could consider visiting Kozhikode instead of Thekkady. However, this would require a significant change to your itinerary.\n",
            "* If you stick with the original plan, you could visit the spice plantations and tea gardens in Thekkady, and then enjoy a traditional Kerala dinner and relax at the hotel.\n",
            "\n",
            "\n",
            "Day 4 (2025-01-24): Munnar Hill Station\n",
            "\n",
            "* On January 24, you could visit the India Boat & Marine Show 2025 at the Bolgatty Palace Event Centre in Kochi, if you're interested in boats and marine activities. However, this would require a detour from your original plan.\n",
            "* Alternatively, you could stick with the original plan and visit the Tea Museum, Mattupetty Dam, and Echo Point in Munnar.\n",
            "\n",
            "\n",
            "Day 5 (2025-01-25): Departure from Kochi\n",
            "\n",
            "* On your way back to Kochi, you could consider visiting the Ernakulathappan Ground, which is hosting the BAI Trade Expo 2025. This could be a great opportunity to learn about the local trade and industry.\n",
            "* If you have time, you could also visit the Lulu Mall for some last-minute shopping before departing from Cochin International Airport.\n",
            "\n",
            "Here's a revised itinerary incorporating some of these suggestions:\n",
            "\n",
            "\n",
            "Day 1 (2025-01-21): Arrival in Kochi and Exploration of Fort Kochi\n",
            "\n",
            "* Arrive at Cochin International Airport\n",
            "* Transfer to hotel in Fort Kochi\n",
            "* Visit St. Francis Church, the Dutch Palace, and the iconic Chinese fishing nets\n",
            "* Visit the Bolgatty Palace to see if there are any events happening\n",
            "* Enjoy a traditional Kerala dinner and relax at the hotel\n",
            "\n",
            "\n",
            "Day 2 (2025-01-22): Backwaters of Alleppey\n",
            "\n",
            "* Drive to Alleppey (approx. 2 hours)\n",
            "* Board a houseboat and cruise through the backwaters\n",
            "* Visit the Adlux Angamaly to experience the local fashion scene\n",
            "* Savor a traditional Kerala lunch on the houseboat\n",
            "* Overnight stay on the houseboat\n",
            "\n",
            "\n",
            "Day 3 (2025-01-23): Thekkady and Periyar Wildlife Sanctuary\n",
            "\n",
            "* Drive to Thekkady (approx. 4 hours)\n",
            "* Visit the Periyar Wildlife Sanctuary for a guided trek or boat safari\n",
            "* Explore the spice plantations and tea gardens\n",
            "* Enjoy a traditional Kerala dinner and relax at the hotel\n",
            "\n",
            "\n",
            "Day 4 (2025-01-24): Munnar Hill Station\n",
            "\n",
            "* Drive to Munnar (approx. 2.5 hours)\n",
            "* Visit the Tea Museum and learn about the history of tea plantations\n",
            "* Explore the scenic Mattupetty Dam and Echo Point\n",
            "* Enjoy a traditional Kerala dinner and relax at the hotel\n",
            "\n",
            "\n",
            "Day 5 (2025-01-25): Departure from Kochi\n",
            "\n",
            "* Drive back to Kochi (approx. 4.5 hours)\n",
            "* Visit the Ernakulathappan Ground to learn about the local trade and industry\n",
            "* Visit the Lulu Mall for some last-minute shopping\n",
            "* Depart from Cochin International Airport for onward journey\n",
            "\n",
            "Let me know if you'd like me to make any further changes or if this revised itinerary meets your requirements!\n"
          ]
        }
      ],
      "source": [
        "snapshot = graph.get_state(thread)\n",
        "\n",
        "def pretty_print_itinerary(itinerary):\n",
        "    lines = itinerary.split('\\n')\n",
        "    for line in lines:\n",
        "        if line.startswith('**'):\n",
        "            print(f\"\\n{line.strip('*')}\")\n",
        "        elif line.startswith('-'):\n",
        "            print(f\"  {line}\")\n",
        "        else:\n",
        "            print(line)\n",
        "\n",
        "pretty_print_itinerary(snapshot.values['itinerary'])"
      ]
    },
    {
      "cell_type": "code",
      "execution_count": null,
      "metadata": {
        "id": "Zplbr8w0XBeg"
      },
      "outputs": [],
      "source": []
    }
  ],
  "metadata": {
    "accelerator": "GPU",
    "colab": {
      "gpuType": "T4",
      "provenance": []
    },
    "kernelspec": {
      "display_name": "Python 3",
      "name": "python3"
    },
    "language_info": {
      "name": "python"
    }
  },
  "nbformat": 4,
  "nbformat_minor": 0
}
